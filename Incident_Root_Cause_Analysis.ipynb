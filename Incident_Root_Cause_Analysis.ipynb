{
  "nbformat": 4,
  "nbformat_minor": 0,
  "metadata": {
    "colab": {
      "provenance": [],
      "authorship_tag": "ABX9TyPI5CpDei9NzylxScgvogtS",
      "include_colab_link": true
    },
    "kernelspec": {
      "name": "python3",
      "display_name": "Python 3"
    },
    "language_info": {
      "name": "python"
    }
  },
  "cells": [
    {
      "cell_type": "markdown",
      "metadata": {
        "id": "view-in-github",
        "colab_type": "text"
      },
      "source": [
        "<a href=\"https://colab.research.google.com/github/AshvinVignesh/Incident-Root-Cause-Analysis-Deep-Learning-Classifcation/blob/main/Incident_Root_Cause_Analysis.ipynb\" target=\"_parent\"><img src=\"https://colab.research.google.com/assets/colab-badge.svg\" alt=\"Open In Colab\"/></a>"
      ]
    },
    {
      "cell_type": "markdown",
      "source": [
        "## Incident Root Cause Analysis"
      ],
      "metadata": {
        "id": "O1jixnqVD6s6"
      }
    },
    {
      "cell_type": "code",
      "execution_count": 3,
      "metadata": {
        "id": "xsJVNi3b2L-c"
      },
      "outputs": [],
      "source": [
        "import pandas as pd\n",
        "import numpy as np \n",
        "import os \n",
        "from sklearn import preprocessing\n",
        "from sklearn.model_selection  import train_test_split"
      ]
    },
    {
      "cell_type": "code",
      "source": [
        "data = pd.read_csv(\"root_cause_analysis.csv\")\n",
        "data.head()"
      ],
      "metadata": {
        "colab": {
          "base_uri": "https://localhost:8080/",
          "height": 206
        },
        "id": "ng3-t_sE5IRU",
        "outputId": "5570b2c7-3ff8-4547-9b92-25677cf423ca"
      },
      "execution_count": 4,
      "outputs": [
        {
          "output_type": "execute_result",
          "data": {
            "text/plain": [
              "   ID  CPU_LOAD  MEMORY_LEAK_LOAD  DELAY  ERROR_1000  ERROR_1001  ERROR_1002  \\\n",
              "0   1         0                 0      0           0           1           0   \n",
              "1   2         0                 0      0           0           0           0   \n",
              "2   3         0                 1      1           0           0           1   \n",
              "3   4         0                 1      0           1           1           0   \n",
              "4   5         1                 1      0           1           0           1   \n",
              "\n",
              "   ERROR_1003     ROOT_CAUSE  \n",
              "0           1    MEMORY_LEAK  \n",
              "1           1    MEMORY_LEAK  \n",
              "2           1    MEMORY_LEAK  \n",
              "3           1    MEMORY_LEAK  \n",
              "4           0  NETWORK_DELAY  "
            ],
            "text/html": [
              "\n",
              "  <div id=\"df-06374e8d-d799-4f32-ae82-62ca744fe0bc\">\n",
              "    <div class=\"colab-df-container\">\n",
              "      <div>\n",
              "<style scoped>\n",
              "    .dataframe tbody tr th:only-of-type {\n",
              "        vertical-align: middle;\n",
              "    }\n",
              "\n",
              "    .dataframe tbody tr th {\n",
              "        vertical-align: top;\n",
              "    }\n",
              "\n",
              "    .dataframe thead th {\n",
              "        text-align: right;\n",
              "    }\n",
              "</style>\n",
              "<table border=\"1\" class=\"dataframe\">\n",
              "  <thead>\n",
              "    <tr style=\"text-align: right;\">\n",
              "      <th></th>\n",
              "      <th>ID</th>\n",
              "      <th>CPU_LOAD</th>\n",
              "      <th>MEMORY_LEAK_LOAD</th>\n",
              "      <th>DELAY</th>\n",
              "      <th>ERROR_1000</th>\n",
              "      <th>ERROR_1001</th>\n",
              "      <th>ERROR_1002</th>\n",
              "      <th>ERROR_1003</th>\n",
              "      <th>ROOT_CAUSE</th>\n",
              "    </tr>\n",
              "  </thead>\n",
              "  <tbody>\n",
              "    <tr>\n",
              "      <th>0</th>\n",
              "      <td>1</td>\n",
              "      <td>0</td>\n",
              "      <td>0</td>\n",
              "      <td>0</td>\n",
              "      <td>0</td>\n",
              "      <td>1</td>\n",
              "      <td>0</td>\n",
              "      <td>1</td>\n",
              "      <td>MEMORY_LEAK</td>\n",
              "    </tr>\n",
              "    <tr>\n",
              "      <th>1</th>\n",
              "      <td>2</td>\n",
              "      <td>0</td>\n",
              "      <td>0</td>\n",
              "      <td>0</td>\n",
              "      <td>0</td>\n",
              "      <td>0</td>\n",
              "      <td>0</td>\n",
              "      <td>1</td>\n",
              "      <td>MEMORY_LEAK</td>\n",
              "    </tr>\n",
              "    <tr>\n",
              "      <th>2</th>\n",
              "      <td>3</td>\n",
              "      <td>0</td>\n",
              "      <td>1</td>\n",
              "      <td>1</td>\n",
              "      <td>0</td>\n",
              "      <td>0</td>\n",
              "      <td>1</td>\n",
              "      <td>1</td>\n",
              "      <td>MEMORY_LEAK</td>\n",
              "    </tr>\n",
              "    <tr>\n",
              "      <th>3</th>\n",
              "      <td>4</td>\n",
              "      <td>0</td>\n",
              "      <td>1</td>\n",
              "      <td>0</td>\n",
              "      <td>1</td>\n",
              "      <td>1</td>\n",
              "      <td>0</td>\n",
              "      <td>1</td>\n",
              "      <td>MEMORY_LEAK</td>\n",
              "    </tr>\n",
              "    <tr>\n",
              "      <th>4</th>\n",
              "      <td>5</td>\n",
              "      <td>1</td>\n",
              "      <td>1</td>\n",
              "      <td>0</td>\n",
              "      <td>1</td>\n",
              "      <td>0</td>\n",
              "      <td>1</td>\n",
              "      <td>0</td>\n",
              "      <td>NETWORK_DELAY</td>\n",
              "    </tr>\n",
              "  </tbody>\n",
              "</table>\n",
              "</div>\n",
              "      <button class=\"colab-df-convert\" onclick=\"convertToInteractive('df-06374e8d-d799-4f32-ae82-62ca744fe0bc')\"\n",
              "              title=\"Convert this dataframe to an interactive table.\"\n",
              "              style=\"display:none;\">\n",
              "        \n",
              "  <svg xmlns=\"http://www.w3.org/2000/svg\" height=\"24px\"viewBox=\"0 0 24 24\"\n",
              "       width=\"24px\">\n",
              "    <path d=\"M0 0h24v24H0V0z\" fill=\"none\"/>\n",
              "    <path d=\"M18.56 5.44l.94 2.06.94-2.06 2.06-.94-2.06-.94-.94-2.06-.94 2.06-2.06.94zm-11 1L8.5 8.5l.94-2.06 2.06-.94-2.06-.94L8.5 2.5l-.94 2.06-2.06.94zm10 10l.94 2.06.94-2.06 2.06-.94-2.06-.94-.94-2.06-.94 2.06-2.06.94z\"/><path d=\"M17.41 7.96l-1.37-1.37c-.4-.4-.92-.59-1.43-.59-.52 0-1.04.2-1.43.59L10.3 9.45l-7.72 7.72c-.78.78-.78 2.05 0 2.83L4 21.41c.39.39.9.59 1.41.59.51 0 1.02-.2 1.41-.59l7.78-7.78 2.81-2.81c.8-.78.8-2.07 0-2.86zM5.41 20L4 18.59l7.72-7.72 1.47 1.35L5.41 20z\"/>\n",
              "  </svg>\n",
              "      </button>\n",
              "      \n",
              "  <style>\n",
              "    .colab-df-container {\n",
              "      display:flex;\n",
              "      flex-wrap:wrap;\n",
              "      gap: 12px;\n",
              "    }\n",
              "\n",
              "    .colab-df-convert {\n",
              "      background-color: #E8F0FE;\n",
              "      border: none;\n",
              "      border-radius: 50%;\n",
              "      cursor: pointer;\n",
              "      display: none;\n",
              "      fill: #1967D2;\n",
              "      height: 32px;\n",
              "      padding: 0 0 0 0;\n",
              "      width: 32px;\n",
              "    }\n",
              "\n",
              "    .colab-df-convert:hover {\n",
              "      background-color: #E2EBFA;\n",
              "      box-shadow: 0px 1px 2px rgba(60, 64, 67, 0.3), 0px 1px 3px 1px rgba(60, 64, 67, 0.15);\n",
              "      fill: #174EA6;\n",
              "    }\n",
              "\n",
              "    [theme=dark] .colab-df-convert {\n",
              "      background-color: #3B4455;\n",
              "      fill: #D2E3FC;\n",
              "    }\n",
              "\n",
              "    [theme=dark] .colab-df-convert:hover {\n",
              "      background-color: #434B5C;\n",
              "      box-shadow: 0px 1px 3px 1px rgba(0, 0, 0, 0.15);\n",
              "      filter: drop-shadow(0px 1px 2px rgba(0, 0, 0, 0.3));\n",
              "      fill: #FFFFFF;\n",
              "    }\n",
              "  </style>\n",
              "\n",
              "      <script>\n",
              "        const buttonEl =\n",
              "          document.querySelector('#df-06374e8d-d799-4f32-ae82-62ca744fe0bc button.colab-df-convert');\n",
              "        buttonEl.style.display =\n",
              "          google.colab.kernel.accessAllowed ? 'block' : 'none';\n",
              "\n",
              "        async function convertToInteractive(key) {\n",
              "          const element = document.querySelector('#df-06374e8d-d799-4f32-ae82-62ca744fe0bc');\n",
              "          const dataTable =\n",
              "            await google.colab.kernel.invokeFunction('convertToInteractive',\n",
              "                                                     [key], {});\n",
              "          if (!dataTable) return;\n",
              "\n",
              "          const docLinkHtml = 'Like what you see? Visit the ' +\n",
              "            '<a target=\"_blank\" href=https://colab.research.google.com/notebooks/data_table.ipynb>data table notebook</a>'\n",
              "            + ' to learn more about interactive tables.';\n",
              "          element.innerHTML = '';\n",
              "          dataTable['output_type'] = 'display_data';\n",
              "          await google.colab.output.renderOutput(dataTable, element);\n",
              "          const docLink = document.createElement('div');\n",
              "          docLink.innerHTML = docLinkHtml;\n",
              "          element.appendChild(docLink);\n",
              "        }\n",
              "      </script>\n",
              "    </div>\n",
              "  </div>\n",
              "  "
            ]
          },
          "metadata": {},
          "execution_count": 4
        }
      ]
    },
    {
      "cell_type": "code",
      "source": [
        "label_encoder = preprocessing.LabelEncoder()\n",
        "data['ROOT_CAUSE'] = label_encoder.fit_transform(data['ROOT_CAUSE'])"
      ],
      "metadata": {
        "id": "uASPKTUh5Tcg"
      },
      "execution_count": 6,
      "outputs": []
    },
    {
      "cell_type": "code",
      "source": [
        "np_data = data.to_numpy()\n",
        "np_data"
      ],
      "metadata": {
        "colab": {
          "base_uri": "https://localhost:8080/"
        },
        "id": "hQHlRoRQ5zgS",
        "outputId": "87ee7214-920b-4b90-8190-fd4a7c022e29"
      },
      "execution_count": 8,
      "outputs": [
        {
          "output_type": "execute_result",
          "data": {
            "text/plain": [
              "array([[   1,    0,    0, ...,    0,    1,    1],\n",
              "       [   2,    0,    0, ...,    0,    1,    1],\n",
              "       [   3,    0,    1, ...,    1,    1,    1],\n",
              "       ...,\n",
              "       [ 998,    1,    1, ...,    0,    0,    1],\n",
              "       [ 999,    0,    1, ...,    0,    0,    2],\n",
              "       [1000,    1,    0, ...,    1,    0,    0]])"
            ]
          },
          "metadata": {},
          "execution_count": 8
        }
      ]
    },
    {
      "cell_type": "code",
      "source": [
        "np_data = data.to_numpy().astype(float)\n",
        "np_data"
      ],
      "metadata": {
        "colab": {
          "base_uri": "https://localhost:8080/"
        },
        "id": "2-Lt922A6u0f",
        "outputId": "8867ff6a-e5f2-47ea-e7d8-80e6a1e38684"
      },
      "execution_count": 9,
      "outputs": [
        {
          "output_type": "execute_result",
          "data": {
            "text/plain": [
              "array([[   1.,    0.,    0., ...,    0.,    1.,    1.],\n",
              "       [   2.,    0.,    0., ...,    0.,    1.,    1.],\n",
              "       [   3.,    0.,    1., ...,    1.,    1.,    1.],\n",
              "       ...,\n",
              "       [ 998.,    1.,    1., ...,    0.,    0.,    1.],\n",
              "       [ 999.,    0.,    1., ...,    0.,    0.,    2.],\n",
              "       [1000.,    1.,    0., ...,    1.,    0.,    0.]])"
            ]
          },
          "metadata": {},
          "execution_count": 9
        }
      ]
    },
    {
      "cell_type": "code",
      "source": [
        "X_data = np_data[:,1:8]\n",
        "Y_data = np_data[:,8]\n"
      ],
      "metadata": {
        "id": "VzZQLblh7Ea6"
      },
      "execution_count": 12,
      "outputs": []
    },
    {
      "cell_type": "markdown",
      "source": [
        "## one-hot encoding"
      ],
      "metadata": {
        "id": "FGpsB8Fm8nUy"
      }
    },
    {
      "cell_type": "code",
      "source": [
        "import tensorflow as tf\n"
      ],
      "metadata": {
        "id": "kdl4Ycsk846u"
      },
      "execution_count": 13,
      "outputs": []
    },
    {
      "cell_type": "code",
      "source": [
        "Y_data = tf.keras.utils.to_categorical(Y_data,3)"
      ],
      "metadata": {
        "id": "G3elpY9Z77dV"
      },
      "execution_count": 14,
      "outputs": []
    },
    {
      "cell_type": "code",
      "source": [
        "X_train,X_test,Y_train,Y_test = train_test_split(X_data,Y_data,test_size=0.2)"
      ],
      "metadata": {
        "id": "ao5GUGBk9GGA"
      },
      "execution_count": 15,
      "outputs": []
    },
    {
      "cell_type": "code",
      "source": [
        "print(label_encoder.classes_)"
      ],
      "metadata": {
        "colab": {
          "base_uri": "https://localhost:8080/"
        },
        "id": "6l9ZxZo5-sMm",
        "outputId": "0f73f2a8-71cd-4151-89b4-a3613a48b5d6"
      },
      "execution_count": 17,
      "outputs": [
        {
          "output_type": "stream",
          "name": "stdout",
          "text": [
            "['DATABASE_ISSUE' 'MEMORY_LEAK' 'NETWORK_DELAY']\n"
          ]
        }
      ]
    },
    {
      "cell_type": "code",
      "source": [
        "from tensorflow import keras\n",
        "verbose = 1\n",
        "batch = 64\n",
        "epoch = 20\n",
        "hidden_nodes = 128\n",
        "output_node = len(label_encoder.classes_)\n",
        "validation_split = 0.2\n",
        "\n",
        "\n",
        "model= tf.keras.models.Sequential()\n",
        "\n",
        "model.add(keras.layers.Dense(  hidden_nodes,  input_shape=(7,),  name =\"HIDDEN-LAYER-1\"  , activation =\"relu\" ))\n",
        "\n",
        "model.add(keras.layers.Dense(  hidden_nodes,  name= \"HIDDEN-LAYER-2\",  activation= \"relu\" ))\n",
        "\n",
        "model.add(keras.layers.Dense(  output_node,  name= \"OUTPUT-LAYER\" , activation = \"softmax\"))\n",
        "\n",
        "model.compile(loss= \"categorical_crossentropy\" , metrics = ['accuracy'])"
      ],
      "metadata": {
        "id": "JYfmiH5z-FId"
      },
      "execution_count": 23,
      "outputs": []
    },
    {
      "cell_type": "code",
      "source": [
        "model.summary()"
      ],
      "metadata": {
        "colab": {
          "base_uri": "https://localhost:8080/"
        },
        "id": "tZCOMrmxCexg",
        "outputId": "47b07780-b6d1-48e5-f183-3e668f227df8"
      },
      "execution_count": 20,
      "outputs": [
        {
          "output_type": "stream",
          "name": "stdout",
          "text": [
            "Model: \"sequential_1\"\n",
            "_________________________________________________________________\n",
            " Layer (type)                Output Shape              Param #   \n",
            "=================================================================\n",
            " HIDDEN-LAYER-1 (Dense)      (None, 128)               1024      \n",
            "                                                                 \n",
            " HIDDEN-LAYER-2 (Dense)      (None, 128)               16512     \n",
            "                                                                 \n",
            " OUTPUT-LAYER (Dense)        (None, 3)                 387       \n",
            "                                                                 \n",
            "=================================================================\n",
            "Total params: 17,923\n",
            "Trainable params: 17,923\n",
            "Non-trainable params: 0\n",
            "_________________________________________________________________\n"
          ]
        }
      ]
    },
    {
      "cell_type": "code",
      "source": [
        "model.fit(X_train,Y_train, verbose=verbose , batch_size= batch, epochs=epoch , validation_split = validation_split)"
      ],
      "metadata": {
        "colab": {
          "base_uri": "https://localhost:8080/"
        },
        "id": "z3PTxX4gCjA5",
        "outputId": "6659d14d-480f-4849-a4d3-76d2037c409e"
      },
      "execution_count": 24,
      "outputs": [
        {
          "output_type": "stream",
          "name": "stdout",
          "text": [
            "Epoch 1/20\n",
            "10/10 [==============================] - 1s 25ms/step - loss: 0.9232 - accuracy: 0.6594 - val_loss: 0.7705 - val_accuracy: 0.8125\n",
            "Epoch 2/20\n",
            "10/10 [==============================] - 0s 4ms/step - loss: 0.6935 - accuracy: 0.7984 - val_loss: 0.6363 - val_accuracy: 0.7750\n",
            "Epoch 3/20\n",
            "10/10 [==============================] - 0s 4ms/step - loss: 0.5694 - accuracy: 0.8031 - val_loss: 0.5621 - val_accuracy: 0.8062\n",
            "Epoch 4/20\n",
            "10/10 [==============================] - 0s 6ms/step - loss: 0.5150 - accuracy: 0.8109 - val_loss: 0.5188 - val_accuracy: 0.7937\n",
            "Epoch 5/20\n",
            "10/10 [==============================] - 0s 6ms/step - loss: 0.4937 - accuracy: 0.8109 - val_loss: 0.5154 - val_accuracy: 0.7937\n",
            "Epoch 6/20\n",
            "10/10 [==============================] - 0s 4ms/step - loss: 0.4830 - accuracy: 0.8188 - val_loss: 0.5126 - val_accuracy: 0.7937\n",
            "Epoch 7/20\n",
            "10/10 [==============================] - 0s 4ms/step - loss: 0.4692 - accuracy: 0.8313 - val_loss: 0.5211 - val_accuracy: 0.8000\n",
            "Epoch 8/20\n",
            "10/10 [==============================] - 0s 4ms/step - loss: 0.4628 - accuracy: 0.8328 - val_loss: 0.4965 - val_accuracy: 0.8000\n",
            "Epoch 9/20\n",
            "10/10 [==============================] - 0s 4ms/step - loss: 0.4570 - accuracy: 0.8344 - val_loss: 0.4886 - val_accuracy: 0.8000\n",
            "Epoch 10/20\n",
            "10/10 [==============================] - 0s 6ms/step - loss: 0.4544 - accuracy: 0.8297 - val_loss: 0.5033 - val_accuracy: 0.8000\n",
            "Epoch 11/20\n",
            "10/10 [==============================] - 0s 4ms/step - loss: 0.4481 - accuracy: 0.8266 - val_loss: 0.5006 - val_accuracy: 0.8000\n",
            "Epoch 12/20\n",
            "10/10 [==============================] - 0s 5ms/step - loss: 0.4419 - accuracy: 0.8406 - val_loss: 0.4826 - val_accuracy: 0.8000\n",
            "Epoch 13/20\n",
            "10/10 [==============================] - 0s 6ms/step - loss: 0.4395 - accuracy: 0.8344 - val_loss: 0.4765 - val_accuracy: 0.8062\n",
            "Epoch 14/20\n",
            "10/10 [==============================] - 0s 4ms/step - loss: 0.4315 - accuracy: 0.8391 - val_loss: 0.4768 - val_accuracy: 0.7937\n",
            "Epoch 15/20\n",
            "10/10 [==============================] - 0s 4ms/step - loss: 0.4372 - accuracy: 0.8391 - val_loss: 0.4747 - val_accuracy: 0.8062\n",
            "Epoch 16/20\n",
            "10/10 [==============================] - 0s 4ms/step - loss: 0.4225 - accuracy: 0.8422 - val_loss: 0.4621 - val_accuracy: 0.8125\n",
            "Epoch 17/20\n",
            "10/10 [==============================] - 0s 6ms/step - loss: 0.4220 - accuracy: 0.8422 - val_loss: 0.4615 - val_accuracy: 0.8250\n",
            "Epoch 18/20\n",
            "10/10 [==============================] - 0s 6ms/step - loss: 0.4175 - accuracy: 0.8391 - val_loss: 0.4563 - val_accuracy: 0.8125\n",
            "Epoch 19/20\n",
            "10/10 [==============================] - 0s 4ms/step - loss: 0.4154 - accuracy: 0.8391 - val_loss: 0.4666 - val_accuracy: 0.8062\n",
            "Epoch 20/20\n",
            "10/10 [==============================] - 0s 5ms/step - loss: 0.4132 - accuracy: 0.8438 - val_loss: 0.4531 - val_accuracy: 0.8125\n"
          ]
        },
        {
          "output_type": "execute_result",
          "data": {
            "text/plain": [
              "<keras.callbacks.History at 0x7f66250913f0>"
            ]
          },
          "metadata": {},
          "execution_count": 24
        }
      ]
    },
    {
      "cell_type": "code",
      "source": [
        "print(\"\\nEvaluation against Test Dataset :\\n------------------------------------\")\n",
        "model.evaluate(X_test,Y_test)"
      ],
      "metadata": {
        "colab": {
          "base_uri": "https://localhost:8080/"
        },
        "id": "4ESQCPo2Dh5W",
        "outputId": "194233ef-bdd9-4188-97fb-b7bc86ef52c8"
      },
      "execution_count": 25,
      "outputs": [
        {
          "output_type": "stream",
          "name": "stdout",
          "text": [
            "\n",
            "Evaluation against Test Dataset :\n",
            "------------------------------------\n",
            "7/7 [==============================] - 0s 2ms/step - loss: 0.3204 - accuracy: 0.8750\n"
          ]
        },
        {
          "output_type": "execute_result",
          "data": {
            "text/plain": [
              "[0.3203834593296051, 0.875]"
            ]
          },
          "metadata": {},
          "execution_count": 25
        }
      ]
    },
    {
      "cell_type": "markdown",
      "source": [
        "## Predicting Root Causes"
      ],
      "metadata": {
        "id": "sTQWv6x5Dvnt"
      }
    },
    {
      "cell_type": "code",
      "source": [
        "print(label_encoder.inverse_transform(np.argmax(\n",
        "        model.predict([[1,0,0,0,1,1,0],\n",
        "                       [0,1,1,1,0,0,0],\n",
        "                       [1,1,0,1,1,0,1],\n",
        "                       [0,0,0,0,0,1,0],\n",
        "                       [1,0,1,0,1,1,1]]), axis=1 )))"
      ],
      "metadata": {
        "colab": {
          "base_uri": "https://localhost:8080/"
        },
        "id": "L_CEm5d-Dwyg",
        "outputId": "21a7048f-eb51-45bc-d71e-495e15b8e259"
      },
      "execution_count": 26,
      "outputs": [
        {
          "output_type": "stream",
          "name": "stdout",
          "text": [
            "1/1 [==============================] - 0s 79ms/step\n",
            "['DATABASE_ISSUE' 'NETWORK_DELAY' 'MEMORY_LEAK' 'DATABASE_ISSUE'\n",
            " 'DATABASE_ISSUE']\n"
          ]
        }
      ]
    }
  ]
}